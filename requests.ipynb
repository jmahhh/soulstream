{
 "cells": [
  {
   "cell_type": "code",
   "execution_count": 38,
   "metadata": {},
   "outputs": [],
   "source": [
    "import requests\n",
    "import json"
   ]
  },
  {
   "cell_type": "code",
   "execution_count": 39,
   "metadata": {},
   "outputs": [
    {
     "name": "stdout",
     "output_type": "stream",
     "text": [
      "4107445\n"
     ]
    }
   ],
   "source": [
    "# gets block number\n",
    "n = requests.get('https://api.etherscan.io/api?module=proxy&action=eth_blockNumber&apikey=YourApiKeyToken')\n",
    "n = json.loads(n.text)\n",
    "n = int(n['result'], 16)\n",
    "print(n)"
   ]
  },
  {
   "cell_type": "code",
   "execution_count": 40,
   "metadata": {},
   "outputs": [],
   "source": [
    "# gets block\n",
    "r = requests.get('https://api.etherscan.io/api?module=block&action=getblockreward&blockno='+str(n)+'&apikey=YourApiKeyToken')"
   ]
  },
  {
   "cell_type": "code",
   "execution_count": 41,
   "metadata": {},
   "outputs": [],
   "source": [
    "r = json.loads(r.text)"
   ]
  },
  {
   "cell_type": "code",
   "execution_count": 42,
   "metadata": {},
   "outputs": [
    {
     "name": "stdout",
     "output_type": "stream",
     "text": [
      "{'blockNumber': '4107445', 'timeStamp': '1501668171', 'blockMiner': '0xea674fdde714fd979de3edf0f56aa9716b898ec8', 'blockReward': '5308241023372613062', 'uncles': [{'miner': '0x52bc44d5378309ee2abf1539bf71de1b7d7be3b5', 'unclePosition': '0', 'blockreward': '3750000000000000000'}], 'uncleInclusionReward': '156250000000000000'}\n"
     ]
    }
   ],
   "source": [
    "print(r['result'])"
   ]
  },
  {
   "cell_type": "code",
   "execution_count": 43,
   "metadata": {},
   "outputs": [
    {
     "name": "stdout",
     "output_type": "stream",
     "text": [
      "{'blockNumber': '4107445', 'timeStamp': '1501668171', 'blockMiner': '0xea674fdde714fd979de3edf0f56aa9716b898ec8', 'blockReward': '5308241023372613062', 'uncles': [{'miner': '0x52bc44d5378309ee2abf1539bf71de1b7d7be3b5', 'unclePosition': '0', 'blockreward': '3750000000000000000'}], 'uncleInclusionReward': '156250000000000000'}\n"
     ]
    }
   ],
   "source": [
    "# gets event logs for n to m blocks\n",
    "m = requests.get('https://api.etherscan.io/api?module=logs&action=getLogs&fromBlock='+str(n)+'&toBlock=latest&address=0x33990122638b9132ca29c723bdf037f1a891a70c&topic0=0xddf252ad1be2c89b69c2b068fc378daa952ba7f163c4a11628f55a4df523b3ef&apikey=YourApiKeyToken')\n",
    "m = json.loads(m.text)\n",
    "print(r['result'])"
   ]
  },
  {
   "cell_type": "code",
   "execution_count": null,
   "metadata": {
    "collapsed": true
   },
   "outputs": [],
   "source": []
  }
 ],
 "metadata": {
  "kernelspec": {
   "display_name": "Python 3",
   "language": "python",
   "name": "python3"
  },
  "language_info": {
   "codemirror_mode": {
    "name": "ipython",
    "version": 3
   },
   "file_extension": ".py",
   "mimetype": "text/x-python",
   "name": "python",
   "nbconvert_exporter": "python",
   "pygments_lexer": "ipython3",
   "version": "3.6.1"
  }
 },
 "nbformat": 4,
 "nbformat_minor": 2
}
