{
 "cells": [
  {
   "cell_type": "code",
   "execution_count": 9,
   "metadata": {
    "collapsed": true
   },
   "outputs": [],
   "source": [
    "import requests\n",
    "import configparser"
   ]
  },
  {
   "cell_type": "code",
   "execution_count": 11,
   "metadata": {},
   "outputs": [
    {
     "data": {
      "text/plain": [
       "'tokens_3'"
      ]
     },
     "execution_count": 11,
     "metadata": {},
     "output_type": "execute_result"
    }
   ],
   "source": [
    "Config = configparser.ConfigParser()\n",
    "Config.read(\"../config.ini\")\n",
    "Config['Setup']['PlotName']"
   ]
  },
  {
   "cell_type": "code",
   "execution_count": 8,
   "metadata": {},
   "outputs": [
    {
     "name": "stdout",
     "output_type": "stream",
     "text": [
      "[\n",
      "    {\n",
      "        \"id\": \"veritaseum\", \n",
      "        \"name\": \"Veritaseum\", \n",
      "        \"symbol\": \"VERI\", \n",
      "        \"rank\": \"22\", \n",
      "        \"price_usd\": \"144.708\", \n",
      "        \"price_btc\": \"0.0416966\", \n",
      "        \"24h_volume_usd\": \"1123050.0\", \n",
      "        \"market_cap_usd\": \"290940273.0\", \n",
      "        \"available_supply\": \"2010533.0\", \n",
      "        \"total_supply\": \"100000000.0\", \n",
      "        \"percent_change_1h\": \"-2.54\", \n",
      "        \"percent_change_24h\": \"12.4\", \n",
      "        \"percent_change_7d\": \"-8.51\", \n",
      "        \"last_updated\": \"1502434461\"\n",
      "    }\n",
      "]\n"
     ]
    }
   ],
   "source": [
    "symbol = 'veritaseum'\n",
    "n = requests.get('https://api.coinmarketcap.com/v1/ticker/' + symbol + '/')\n",
    "print(n.text)"
   ]
  },
  {
   "cell_type": "code",
   "execution_count": null,
   "metadata": {
    "collapsed": true
   },
   "outputs": [],
   "source": []
  }
 ],
 "metadata": {
  "kernelspec": {
   "display_name": "Python 3",
   "language": "python",
   "name": "python3"
  },
  "language_info": {
   "codemirror_mode": {
    "name": "ipython",
    "version": 3
   },
   "file_extension": ".py",
   "mimetype": "text/x-python",
   "name": "python",
   "nbconvert_exporter": "python",
   "pygments_lexer": "ipython3",
   "version": "3.6.1"
  }
 },
 "nbformat": 4,
 "nbformat_minor": 2
}
