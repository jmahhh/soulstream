{
 "cells": [
  {
   "cell_type": "code",
   "execution_count": 2,
   "metadata": {
    "collapsed": true
   },
   "outputs": [],
   "source": [
    "import requests\n",
    "import json"
   ]
  },
  {
   "cell_type": "code",
   "execution_count": 6,
   "metadata": {},
   "outputs": [
    {
     "name": "stdout",
     "output_type": "stream",
     "text": [
      "{'address': '0xff71cb760666ab06aa73f34995b42dd4b85ea07b', 'name': 'THBEX', 'decimals': '4', 'symbol': 'THBEX', 'totalSupply': '3020000000', 'owner': '0x6016dca5eb73590fa875fcf32bdb74905a4323bd', 'transfersCount': 1002, 'totalIn': 25395405112, 'totalOut': 22375405112, 'createdAt': 1469708405, 'createdTx': '0xd1bda8e3d25fcba4cf1ae11a92e346150e1b75cce48713bb4ff6baa27bd2fe7f', 'lastUpdated': 1501871411, 'last_updated': 1501871411, 'issuancesCount': 3, 'holdersCount': 99, 'image': 'https://ethplorer.io/images/everex.png', 'description': \"THBEX is the cryptocash digital asset representing one unit of the Thailand national currency.\\n\\n                Thai Baht (THB) with the pegged exchange rate of 1:1.\\n\\n                THBEX is underwritten by licensed financial institutions in Thailand and is guaranteed 100% by physical currency reserves, surety bonds, or the underwriters' own capital.\\n\\n                Financial guarantee and proof of funds documentation is available in specific issuance records.\\n\\n                For more information, visit https://Everex.io\", 'price': 0.030102347983142687, 'countOps': 1005}\n"
     ]
    }
   ],
   "source": [
    "n = requests.get('https://api.ethplorer.io/getTokenInfo/0xff71cb760666ab06aa73f34995b42dd4b85ea07b?apiKey=freekey')\n",
    "n = json.loads(n.text)\n",
    "print(n)"
   ]
  },
  {
   "cell_type": "code",
   "execution_count": null,
   "metadata": {
    "collapsed": true
   },
   "outputs": [],
   "source": []
  }
 ],
 "metadata": {
  "kernelspec": {
   "display_name": "Python 3",
   "language": "python",
   "name": "python3"
  },
  "language_info": {
   "codemirror_mode": {
    "name": "ipython",
    "version": 3
   },
   "file_extension": ".py",
   "mimetype": "text/x-python",
   "name": "python",
   "nbconvert_exporter": "python",
   "pygments_lexer": "ipython3",
   "version": "3.6.1"
  }
 },
 "nbformat": 4,
 "nbformat_minor": 2
}
