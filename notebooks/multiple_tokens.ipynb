{
 "cells": [
  {
   "cell_type": "code",
   "execution_count": 29,
   "metadata": {},
   "outputs": [],
   "source": [
    "import configparser\n",
    "import ast\n",
    "import json"
   ]
  },
  {
   "cell_type": "code",
   "execution_count": 30,
   "metadata": {},
   "outputs": [
    {
     "name": "stdout",
     "output_type": "stream",
     "text": [
      "['GNO', 'PAY', 'ANT', 'WINGS', 'QTUM', 'ADX', 'BAT', 'CDT', 'STORJ', 'DNT']\n"
     ]
    }
   ],
   "source": [
    "Config = configparser.ConfigParser()\n",
    "Config.read(\"../config.ini\")\n",
    "x = Config.get('Tokens','List')\n",
    "x = ast.literal_eval(x)\n",
    "print(x)\n",
    "#json.loads(Config.get('Tokens','List'))"
   ]
  },
  {
   "cell_type": "code",
   "execution_count": 31,
   "metadata": {},
   "outputs": [
    {
     "name": "stdout",
     "output_type": "stream",
     "text": [
      "GNO\n",
      "PAY\n",
      "ANT\n",
      "WINGS\n",
      "QTUM\n",
      "ADX\n",
      "BAT\n",
      "CDT\n",
      "STORJ\n",
      "DNT\n"
     ]
    }
   ],
   "source": [
    "for y in x:\n",
    "    print(y)"
   ]
  },
  {
   "cell_type": "code",
   "execution_count": null,
   "metadata": {
    "collapsed": true
   },
   "outputs": [],
   "source": []
  }
 ],
 "metadata": {
  "kernelspec": {
   "display_name": "Python 3",
   "language": "python",
   "name": "python3"
  },
  "language_info": {
   "codemirror_mode": {
    "name": "ipython",
    "version": 3
   },
   "file_extension": ".py",
   "mimetype": "text/x-python",
   "name": "python",
   "nbconvert_exporter": "python",
   "pygments_lexer": "ipython3",
   "version": "3.6.1"
  }
 },
 "nbformat": 4,
 "nbformat_minor": 2
}
