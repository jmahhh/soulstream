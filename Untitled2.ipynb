{
 "cells": [
  {
   "cell_type": "code",
   "execution_count": 23,
   "metadata": {},
   "outputs": [],
   "source": [
    "import requests\n",
    "import json\n",
    "import configparser\n",
    "import sys\n",
    "\n",
    "from web3 import Web3, KeepAliveRPCProvider, IPCProvider, HTTPProvider"
   ]
  },
  {
   "cell_type": "code",
   "execution_count": 24,
   "metadata": {},
   "outputs": [
    {
     "data": {
      "text/plain": [
       "['config.ini']"
      ]
     },
     "execution_count": 24,
     "metadata": {},
     "output_type": "execute_result"
    }
   ],
   "source": [
    "Config = configparser.ConfigParser()\n",
    "Config.read(\"config.ini\")"
   ]
  },
  {
   "cell_type": "code",
   "execution_count": 25,
   "metadata": {},
   "outputs": [
    {
     "data": {
      "text/plain": [
       "'http://localhost:8545'"
      ]
     },
     "execution_count": 25,
     "metadata": {},
     "output_type": "execute_result"
    }
   ],
   "source": [
    "Config['SectionOne']['NodeURL']"
   ]
  },
  {
   "cell_type": "code",
   "execution_count": 26,
   "metadata": {},
   "outputs": [],
   "source": [
    "web3 = Web3(HTTPProvider(Config['SectionOne']['NodeURL']))"
   ]
  },
  {
   "cell_type": "code",
   "execution_count": 27,
   "metadata": {},
   "outputs": [
    {
     "name": "stdout",
     "output_type": "stream",
     "text": [
      "New Block: 0x8c0d91f24f64501f7dc859cd764b24f2ae9985d991a18c73103435cd4e0e519bNew Block: 0x109ccad82cbcd9983b6cf4536722b322341aa3c718bbe4aa0b70cceb88804f72New Block: 0x1da487c69f479977810342e2174799f30234e16769b83c30acb64ead673a7003New Block: 0x939cff32c03d633d421f87bff9b1a06adf58604d88046a9acc0ef668be0cf59aNew Block: 0xf4c17f6c7e2f32ed74048fcca63aa21e2b597d60e79aad1ffcede14861749f9aNew Block: 0x30deeda36cc04b627d729e0dce2eb4cb71c20acf8309278fe34cee4b2e77ed2b"
     ]
    }
   ],
   "source": [
    "def new_block_callback(block_hash):\n",
    "    sys.stdout.write(\"New Block: {0}\".format(block_hash))\n",
    "    b = web3.eth.getBlock(block_hash)\n",
    "    for t in range(0, len(b['transactions'])):\n",
    "        r = web3.eth.getTransactionReceipt(t)\n",
    "        if (r['from'] or r['to'] == '0x8d12a197cb00d4747a1fe03395095ce2a5cc6819') and len(r['logs']) > 0 and r['logs'][0]['topics'][0] == '0xddf252ad1be2c89b69c2b068fc378daa952ba7f163c4a11628f55a4df523b3ef':\n",
    "            print('HAHA!')"
   ]
  },
  {
   "cell_type": "code",
   "execution_count": null,
   "metadata": {
    "collapsed": true
   },
   "outputs": [],
   "source": [
    "block_filter = web3.eth.filter('latest')\n",
    "block_filter.watch(new_block_callback)"
   ]
  }
 ],
 "metadata": {
  "kernelspec": {
   "display_name": "Python 3",
   "language": "python",
   "name": "python3"
  },
  "language_info": {
   "codemirror_mode": {
    "name": "ipython",
    "version": 3
   },
   "file_extension": ".py",
   "mimetype": "text/x-python",
   "name": "python",
   "nbconvert_exporter": "python",
   "pygments_lexer": "ipython3",
   "version": "3.6.1"
  }
 },
 "nbformat": 4,
 "nbformat_minor": 2
}
