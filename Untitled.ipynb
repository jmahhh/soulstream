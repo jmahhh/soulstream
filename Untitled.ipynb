{
 "cells": [
  {
   "cell_type": "code",
   "execution_count": 7,
   "metadata": {},
   "outputs": [
    {
     "name": "stdout",
     "output_type": "stream",
     "text": [
      "hah\n"
     ]
    }
   ],
   "source": [
    "x = 6\n",
    "z = 9\n",
    "y = [6,5]\n",
    "if x in y or z in y: \n",
    "    print('hah')"
   ]
  },
  {
   "cell_type": "code",
   "execution_count": 2,
   "metadata": {
    "collapsed": true
   },
   "outputs": [],
   "source": [
    "import configparser"
   ]
  },
  {
   "cell_type": "code",
   "execution_count": 26,
   "metadata": {},
   "outputs": [
    {
     "data": {
      "text/plain": [
       "[('list', '[EtherDelta, Bittrex1, Bittrex2]')]"
      ]
     },
     "execution_count": 26,
     "metadata": {},
     "output_type": "execute_result"
    }
   ],
   "source": [
    "Config = configparser.ConfigParser()\n",
    "Config.read(\"config.ini\")\n",
    "Config.items('List')"
   ]
  },
  {
   "cell_type": "code",
   "execution_count": 8,
   "metadata": {},
   "outputs": [],
   "source": [
    "t = 'qwe'\n",
    "w = 'EtherDelta'\n",
    "if t in Config.items('Exchanges') or w in Config.items('Exchanges'): \n",
    "    print('hah')"
   ]
  },
  {
   "cell_type": "code",
   "execution_count": 27,
   "metadata": {},
   "outputs": [
    {
     "data": {
      "text/plain": [
       "OrderedDict([('0x8d12a197cb00d4747a1fe03395095ce2a5cc6819', 'EtherDelta'),\n",
       "             ('0xfbb1b73c4f0bda4f67dca266ce6ef42f520fbb98', 'Bittrex1'),\n",
       "             ('0xe94b04a0fed112f3664e45adb2b8915693dd5ff3', 'Bittrex2')])"
      ]
     },
     "execution_count": 27,
     "metadata": {},
     "output_type": "execute_result"
    }
   ],
   "source": [
    "Config._sections['Exchanges']"
   ]
  },
  {
   "cell_type": "code",
   "execution_count": 29,
   "metadata": {},
   "outputs": [
    {
     "data": {
      "text/plain": [
       "True"
      ]
     },
     "execution_count": 29,
     "metadata": {},
     "output_type": "execute_result"
    }
   ],
   "source": [
    "'0x8d12a197cb00d4747a1fe03395095ce2a5cc6819' in Config._sections['Exchanges']"
   ]
  },
  {
   "cell_type": "code",
   "execution_count": 30,
   "metadata": {},
   "outputs": [
    {
     "data": {
      "text/plain": [
       "'EtherDelta'"
      ]
     },
     "execution_count": 30,
     "metadata": {},
     "output_type": "execute_result"
    }
   ],
   "source": [
    "Config._sections['Exchanges']['0x8d12a197cb00d4747a1fe03395095ce2a5cc6819']"
   ]
  },
  {
   "cell_type": "code",
   "execution_count": 33,
   "metadata": {},
   "outputs": [
    {
     "name": "stdout",
     "output_type": "stream",
     "text": [
      "('0x8d12a197cb00d4747a1fe03395095ce2a5cc6819', 'EtherDelta')\n",
      "('0xfbb1b73c4f0bda4f67dca266ce6ef42f520fbb98', 'Bittrex1')\n",
      "('0xe94b04a0fed112f3664e45adb2b8915693dd5ff3', 'Bittrex2')\n"
     ]
    }
   ],
   "source": [
    "for ex in Config.items('Exchanges'):\n",
    "    print(ex)"
   ]
  },
  {
   "cell_type": "code",
   "execution_count": null,
   "metadata": {
    "collapsed": true
   },
   "outputs": [],
   "source": []
  }
 ],
 "metadata": {
  "kernelspec": {
   "display_name": "Python 3",
   "language": "python",
   "name": "python3"
  },
  "language_info": {
   "codemirror_mode": {
    "name": "ipython",
    "version": 3
   },
   "file_extension": ".py",
   "mimetype": "text/x-python",
   "name": "python",
   "nbconvert_exporter": "python",
   "pygments_lexer": "ipython3",
   "version": "3.6.1"
  }
 },
 "nbformat": 4,
 "nbformat_minor": 2
}
