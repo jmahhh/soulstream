{
 "cells": [
  {
   "cell_type": "code",
   "execution_count": 29,
   "metadata": {
    "collapsed": true
   },
   "outputs": [],
   "source": [
    "import requests\n",
    "import json\n",
    "import configparser\n",
    "import sys\n",
    "\n",
    "from web3 import Web3, KeepAliveRPCProvider, IPCProvider, HTTPProvider"
   ]
  },
  {
   "cell_type": "code",
   "execution_count": 30,
   "metadata": {},
   "outputs": [
    {
     "data": {
      "text/plain": [
       "['config.ini']"
      ]
     },
     "execution_count": 30,
     "metadata": {},
     "output_type": "execute_result"
    }
   ],
   "source": [
    "Config = configparser.ConfigParser()\n",
    "Config.read(\"config.ini\")"
   ]
  },
  {
   "cell_type": "code",
   "execution_count": 31,
   "metadata": {},
   "outputs": [
    {
     "name": "stdout",
     "output_type": "stream",
     "text": [
      "New Block: 0x822fe86026580fd39ea302d0d0fa4c9d437399b83ec6050521399a885810dd8fNew Block: 0xca36e437c7b39efae9e1e75335c2a405cd01d6daf2cd5d03ad2b629bb28ca903"
     ]
    },
    {
     "data": {
      "text/plain": [
       "'http://localhost:8545'"
      ]
     },
     "execution_count": 31,
     "metadata": {},
     "output_type": "execute_result"
    }
   ],
   "source": [
    "Config['SectionOne']['NodeURL']"
   ]
  },
  {
   "cell_type": "code",
   "execution_count": 32,
   "metadata": {},
   "outputs": [
    {
     "name": "stdout",
     "output_type": "stream",
     "text": [
      "New Block: 0xaf2420f530aa5cd3510fb5187e276dbac6da4b74afab683f782b2ff49289ba18"
     ]
    }
   ],
   "source": [
    "web3 = Web3(HTTPProvider(Config['SectionOne']['NodeURL']))"
   ]
  },
  {
   "cell_type": "code",
   "execution_count": 33,
   "metadata": {
    "collapsed": true
   },
   "outputs": [],
   "source": [
    "def new_block_callback(block_hash):\n",
    "    sys.stdout.write(\"New Block: {0}\".format(block_hash))\n",
    "    b = web3.eth.getBlock(block_hash)\n",
    "    for t in range(0, len(b['transactions'])):\n",
    "        r = web3.eth.getTransactionReceipt(t)\n",
    "        if (r['from'] or r['to'] == '0x8d12a197cb00d4747a1fe03395095ce2a5cc6819') and len(r['logs']) > 0 and r['logs'][0]['topics'][0] == '0xddf252ad1be2c89b69c2b068fc378daa952ba7f163c4a11628f55a4df523b3ef':\n",
    "            print('HAHA!')\n",
    "        else:\n",
    "            print('No etherdelta', r['from'], r['to'])"
   ]
  },
  {
   "cell_type": "code",
   "execution_count": 34,
   "metadata": {},
   "outputs": [
    {
     "name": "stdout",
     "output_type": "stream",
     "text": [
      "New Block: 0x48ad4d04d852438dde173281913c9a0d6087110f902d1110a02b736d97f99fbdNew Block: 0x48ad4d04d852438dde173281913c9a0d6087110f902d1110a02b736d97f99fbdNew Block: 0x9f8221cd61b4f3c46255e721da66a20a34ddd814c88f1a1259f6ca7d7938d9b6New Block: 0x9f8221cd61b4f3c46255e721da66a20a34ddd814c88f1a1259f6ca7d7938d9b6New Block: 0xd211090aff11f90c6361bf5e7eb93f06a880c90c0befcb4f69affeaad8f27a50New Block: 0xd211090aff11f90c6361bf5e7eb93f06a880c90c0befcb4f69affeaad8f27a50New Block: 0x19677b1b2bfa3128daf1f3b72c10aabcfc00a565a8c211eedbae43b1c15f8828New Block: 0x19677b1b2bfa3128daf1f3b72c10aabcfc00a565a8c211eedbae43b1c15f8828"
     ]
    }
   ],
   "source": [
    "block_filter = web3.eth.filter('latest')\n",
    "block_filter.watch(new_block_callback)"
   ]
  },
  {
   "cell_type": "code",
   "execution_count": null,
   "metadata": {
    "collapsed": true
   },
   "outputs": [],
   "source": [
    "/getTokenInfo/0xff71cb760666ab06aa73f34995b42dd4b85ea07b?apiKey=freekey\n"
   ]
  }
 ],
 "metadata": {
  "kernelspec": {
   "display_name": "Python 3",
   "language": "python",
   "name": "python3"
  },
  "language_info": {
   "codemirror_mode": {
    "name": "ipython",
    "version": 3
   },
   "file_extension": ".py",
   "mimetype": "text/x-python",
   "name": "python",
   "nbconvert_exporter": "python",
   "pygments_lexer": "ipython3",
   "version": "3.6.1"
  }
 },
 "nbformat": 4,
 "nbformat_minor": 2
}
