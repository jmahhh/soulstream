{
 "cells": [
  {
   "cell_type": "code",
   "execution_count": 1,
   "metadata": {
    "collapsed": true
   },
   "outputs": [],
   "source": [
    "import requests\n",
    "import json\n",
    "import configparser\n",
    "import sys\n",
    "\n",
    "from web3 import Web3, KeepAliveRPCProvider, IPCProvider, HTTPProvider"
   ]
  },
  {
   "cell_type": "code",
   "execution_count": 2,
   "metadata": {},
   "outputs": [
    {
     "data": {
      "text/plain": [
       "['config.ini']"
      ]
     },
     "execution_count": 2,
     "metadata": {},
     "output_type": "execute_result"
    }
   ],
   "source": [
    "Config = configparser.ConfigParser()\n",
    "Config.read(\"config.ini\")"
   ]
  },
  {
   "cell_type": "code",
   "execution_count": 4,
   "metadata": {},
   "outputs": [
    {
     "data": {
      "text/plain": [
       "'http://188.166.189.17:8545'"
      ]
     },
     "execution_count": 4,
     "metadata": {},
     "output_type": "execute_result"
    }
   ],
   "source": [
    "Config['Setup']['NodeURL']"
   ]
  },
  {
   "cell_type": "code",
   "execution_count": 6,
   "metadata": {},
   "outputs": [],
   "source": [
    "web3 = Web3(HTTPProvider(Config['Setup']['NodeURL']))"
   ]
  },
  {
   "cell_type": "code",
   "execution_count": 33,
   "metadata": {
    "collapsed": true
   },
   "outputs": [],
   "source": [
    "def new_block_callback(block_hash):\n",
    "    sys.stdout.write(\"New Block: {0}\".format(block_hash))\n",
    "    b = web3.eth.getBlock(block_hash)\n",
    "    for t in range(0, len(b['transactions'])):\n",
    "        r = web3.eth.getTransactionReceipt(t)\n",
    "        if (r['from'] or r['to'] == '0x8d12a197cb00d4747a1fe03395095ce2a5cc6819') and len(r['logs']) > 0 and r['logs'][0]['topics'][0] == '0xddf252ad1be2c89b69c2b068fc378daa952ba7f163c4a11628f55a4df523b3ef':\n",
    "            print('HAHA!')\n",
    "        else:\n",
    "            print('No etherdelta', r['from'], r['to'])"
   ]
  },
  {
   "cell_type": "code",
   "execution_count": 34,
   "metadata": {},
   "outputs": [
    {
     "name": "stdout",
     "output_type": "stream",
     "text": [
      "New Block: 0x48ad4d04d852438dde173281913c9a0d6087110f902d1110a02b736d97f99fbdNew Block: 0x48ad4d04d852438dde173281913c9a0d6087110f902d1110a02b736d97f99fbdNew Block: 0x9f8221cd61b4f3c46255e721da66a20a34ddd814c88f1a1259f6ca7d7938d9b6New Block: 0x9f8221cd61b4f3c46255e721da66a20a34ddd814c88f1a1259f6ca7d7938d9b6New Block: 0xd211090aff11f90c6361bf5e7eb93f06a880c90c0befcb4f69affeaad8f27a50New Block: 0xd211090aff11f90c6361bf5e7eb93f06a880c90c0befcb4f69affeaad8f27a50New Block: 0x19677b1b2bfa3128daf1f3b72c10aabcfc00a565a8c211eedbae43b1c15f8828New Block: 0x19677b1b2bfa3128daf1f3b72c10aabcfc00a565a8c211eedbae43b1c15f8828"
     ]
    }
   ],
   "source": [
    "block_filter = web3.eth.filter('latest')\n",
    "block_filter.watch(new_block_callback)"
   ]
  },
  {
   "cell_type": "code",
   "execution_count": 8,
   "metadata": {},
   "outputs": [
    {
     "data": {
      "text/plain": [
       "AttributeDict({'difficulty': 1577385302445319,\n",
       " 'extraData': '0x7431',\n",
       " 'gasLimit': 6705843,\n",
       " 'gasUsed': 6663145,\n",
       " 'hash': '0xde8a9b1bb3f2604818d53bf650575c95c06476a9db4645a7bb4343782e0dbe47',\n",
       " 'logsBloom': '0x000830000468001400414890000000022400202c0401000008b2252020b00b48010a0218050200020064520120d0000108220800000840000001811006000100000900400800a4028012418c0020240c02210040022000042081021848222000280000e80a000004240000606c000800126002694a3400410040051000100000a0b00201000208808000801404844444010088142280409812024101040441804098008402000200020110080000048000024d1920108020000280500010210041132802400409000802420001c004030090082c000810012e320100440c21410083091000100400800908640412000448030c004b4440000301000402200280',\n",
       " 'miner': '0xb2930b35844a230f00e51431acae96fe543a0347',\n",
       " 'mixHash': '0x58cd844578f309848e1cd325b979f302546370a8e561045cceb1ce89de5abc3c',\n",
       " 'nonce': '0x7958ea8028e19646',\n",
       " 'number': 4123161,\n",
       " 'parentHash': '0x65eb227ed31068d190c327ba33c61bdef81af0d57ab4767f5fe1d42299e8e39e',\n",
       " 'receiptsRoot': '0x90f4ec9dc0f7df9eb5276515f90b49d810bb32efbdd0c4e9dd62514a777f2f73',\n",
       " 'sha3Uncles': '0x1dcc4de8dec75d7aab85b567b6ccd41ad312451b948a7413f0a142fd40d49347',\n",
       " 'size': 22244,\n",
       " 'stateRoot': '0x62843da88af5877c4f52ba775c5f055a2e2f136d5070c164232651e79c8b05a5',\n",
       " 'timestamp': 1502005643,\n",
       " 'totalDifficulty': 632521478733371409541,\n",
       " 'transactions': ['0xce89cabac98b3c5fa065b5b14820ffd5f8cf8d65e8c25b8937b349b84c29bf71',\n",
       "  '0xa521f36ca08a321324cf4c9a09da5538a9ed350ab1e346ee824ec32b65b65e26',\n",
       "  '0x00748a21203411c16abcb2b9c2da263d7a556611e3ccb37b5af7fe0e0ff6a91f',\n",
       "  '0xbdac6387bcab811ad0bda7956f03969e2ad64ca07c4316a7ffa7b574deca39e2',\n",
       "  '0xd60eef43481abdd7aa0a4a2372be3a5fe2cec2ce202d2f09bf57b85053130132',\n",
       "  '0x6f3a92dfef6b23f5e5fb285fe20c74036394961ce0da2b0614fefbfb5264fd7f',\n",
       "  '0x005638841cca2fd2eb6cda47b357fa8b8639a6e96f2bfe97542be0a18e750a06',\n",
       "  '0x03d5d635a6705ce18a8aafcb7fbc5315eda22a61a39db3ad548b6418dc07629b',\n",
       "  '0x2034a184ee65e5ec5be7bad8d0a9e0e3babeaac02fcb14081e5f38485b91bea1',\n",
       "  '0x2870e32f3638483a67b45a5fb96b891c97d3550fd21d96b52de1c6a5f9c62857',\n",
       "  '0x422de8573c6aab56380a3b41854f52a99820bf3b819403510792bb761e1b3b52',\n",
       "  '0x4a2e165a324790317a3086822ef04171da537e90fa379ccb93f2e2b84d612afc',\n",
       "  '0x5714caa34400474a7cb529c01b3254a61c4b2136c21cd9fa5a0b4ca3c7793864',\n",
       "  '0x5fc26c377a268388f6ea63e6a0ed5bd05e7954b320f93652c78589ee25f79ee3',\n",
       "  '0x6e0f5491d9848a013b12fe70ba39fee7bd7c84f7e109f166904cd7738bf935dc',\n",
       "  '0x7dbe710a588a468e5098a39a00abd33fc4930dad96e7efab90a3ed6dfb2bf0c3',\n",
       "  '0x888b4b533879e95dac0004038025ad75309df0b6feb690fd77c94cfcf738bf6d',\n",
       "  '0x95a37fbb73a995eefa4c28a9732dbd4de430ebed8b14334e800c86eac8277e87',\n",
       "  '0xa5527e6f4e677fec8ad402ba82a551d047eb958bbad37f75bc8ad7128fff8efc',\n",
       "  '0xad85a18d53b7ff1e97cb0cab13fbfe8ca01c8e554f6d3575aafcd8b2ddff7ab5',\n",
       "  '0xbe68a0291ffef7c2e119dea025ed7b37b24e965b0080cf08018f076e059edf18',\n",
       "  '0xc0610ed50c8d96cbe95ca6d0c19d28e95489dcdf472e57f07b363784c7b0bb36',\n",
       "  '0xc84ede9ad1cd2e43124cd50c3ded4115733a823449c1a82fb224b412ae22d135',\n",
       "  '0xd08d6550be27ad15e818147f495cf64ceac1fcc6c9aabd705a274a96469cd426',\n",
       "  '0x1ecb720ea637492c7d013ed8077b8881e9c54b472354739d3c71bb3a3cf7451e',\n",
       "  '0x2d468055645eb4e6976ef8d24e6906c6d1706544222dcdc5b5e9ee485b8fb576',\n",
       "  '0x471024057ca3fa80670e4d3c209a942cf296559acff4593c2e31bd032843b4a7',\n",
       "  '0xbbb4f4e7f9e1ac3974acdf4c235114e310eaa79794136ab9f9fdcc81fc1bf2a5',\n",
       "  '0xd381cf188cbc500164b2dea583bd8714df71b1e0b32da3642fd3784ba64cdd62',\n",
       "  '0xf312928be91e0dc328442dd73e4f86c01d92ae46cd7f04a53e92352a31100a0b',\n",
       "  '0x712a42f5873af87a4b030da0550c18d37ef9f43c78f16f2179c2f3031905fb5f',\n",
       "  '0x3407769f4d03f64815fe3222292897bd202eac1ae7019bf9cd82aa902c0111fd',\n",
       "  '0xf6c3ec3b0a304dba7c7a28422077ad129b601b117cebf099e02a18e9f1335186',\n",
       "  '0x158c4f646c2de69b31b5892e2697663e2ee66c3e17c0782ddfbe8b347b6788d6',\n",
       "  '0x3de806301ed4de359990005778f523e0f9b6b89d496e3bfaed04c6b86fda1b05',\n",
       "  '0xd7b6c0e115f213091da5ad39ba99ff68daca681af2dda6272236f2ca019aa539',\n",
       "  '0x67fbe21b89eb5f0f4b3a85c3668907c1602e30a1f557e5f20186e2837b3e4ef1',\n",
       "  '0xc0f8309961cc99b19c0edc5451aa2550d4b3ec21535b4710c3d66338e8d100c9',\n",
       "  '0x036c3357f7a3b0ba69c2063f3040ba1143f5844f268b603895f84a70f5465724',\n",
       "  '0x091ecf19e457eca004e299482a4f7418ae2da6093c6c38e6c7664b9d9a607a8f',\n",
       "  '0x1195b5a1041868d720828187974a63b65f8c14dd5dd1a49058be69a90105fe59',\n",
       "  '0x12451f680d540a280b6aad4bc6d4d888163769cd3a166845be4dfa803d344805',\n",
       "  '0x1953e1d2331e9638669afee3f3bcf69a3bef889303c26339e68e21b2bc829986',\n",
       "  '0x1a478c6ba6143f1ee5db3e543795c6385e877cb25027384ce526b79202ada1a4',\n",
       "  '0x1ecbd76c599dc7a6f2051f8c9837c786d59adb4c0613b71770ac4d8dcf789c50',\n",
       "  '0x2617adb0a5fd5d6f135a975790fcd2c86e992b21c41e422a5418de89bd79f68c',\n",
       "  '0x29379ddfe3419e0abe6e20e4c6469ce3df7f5e7d30d53ceba8d1fcd4ab919aec',\n",
       "  '0x3877347723224b88829173147d0f425d0017b95118be72483428c23870f2fddd',\n",
       "  '0x3bbb7f8a9591616c67e1fb810fbe7e6f9c19edaba5754c1861e14c614b34361d',\n",
       "  '0x3c5042185501e2a3170ce7bc0f1a01c07a9dfb6661d8e7014c30643b8648c9a2',\n",
       "  '0x439b691acde2af825ace3ef1404c52cfc63d704e295369c7ee42e047cc810b78',\n",
       "  '0x4558936b408d9eef4b936de392562035eb879c97263b24ab80b381b0932f9eb3',\n",
       "  '0x47668ecef0db7684efb5b72c015d5d5044dc9e2cc98d688b94487aa5deed8bc7',\n",
       "  '0x4ae39ece0863ed61eb706998e364a045a06a5b6c1e1daf82b62a3eea774e4f80',\n",
       "  '0x4b602ef30278a9d20e3b1dfd24e893b21461f00e0f52fbe4ddf700471c458c1a',\n",
       "  '0x57b9ad883b5deba829f5d8c36cb567682380c1c9a2939860c985d617de36f4b5',\n",
       "  '0x5d3f5d627d1d38e703e55b14df8c6fc61d9c3363d7f2ec281ab978108e567b10',\n",
       "  '0x5e42e62997816502b0966cc6a41f355b2802c8aa4a12fcdc505f9cf13ce6099c',\n",
       "  '0x5ee9145ce41ee93d4eea8b87753a34659da378594f78b08c42b5bda7fb690eee',\n",
       "  '0x6092de9f0bdf179332abb0442665ddc35543860ab4b62766a0fa4c14875e08ef',\n",
       "  '0x676c29d38ab90a3c2487229dcd107b7ff6bbd1c415c3ea4c7466e0a10b52ec92',\n",
       "  '0x7e2e154f4a17544cd3c2d65d792eec4c87b8adc9d9519720120d6905e8033747',\n",
       "  '0x806f53ac21f2ce5787b63b3e229ea6c0b7f234c3d26b3cf1bd211d47be5b60a1',\n",
       "  '0x87772aa13eeb794dc29b48394567b52befbdb45cfff9ec20da39f2f4e6116f5d',\n",
       "  '0x87f6e75257cdcba04bd50095f757ed10473083dc139d2000df2e1bb27c67b663',\n",
       "  '0x89155f217e508d470f56259f331de5c4e38a18ee1c2342076674031954a24d73',\n",
       "  '0x896a016d6e9d58218647adb282292b297b053ec1f382215a4389d94d27dddb59',\n",
       "  '0x8eb63b1ea30fcd1bb548df8a8c3233d438686fd438bab4ed57ff2517f72cc451',\n",
       "  '0x93f52c0d9d3b43f2b4d6fc82f430a72e639498757c36c4c1d0320772e1e7d1f0',\n",
       "  '0x9591bc3088090f1fbaf1a6dcefaec2da1734e210ba461e75bfd63baea9cb40c7',\n",
       "  '0x978743e2a9b875a731d0726126fbfb503d3d03d630a17fd8d4a53b0e10dae7d4',\n",
       "  '0x99b7ffeac0013348dbe7168d9624caa3476f0e2253927d5a8e43c91d8a81d6ce',\n",
       "  '0x9e97a6c1831b6fae5faec186b9a9de30d76b48a53bd251870a03c40343a79c45',\n",
       "  '0x9f78306254f7ea15a1f093689a7a3baa2f2f57e47457bfeb095342822a713fe6',\n",
       "  '0xa354c82bfcebde4487d390dc9f32c040632271d1c0da8bd9b6278537ba30b681',\n",
       "  '0xaacdfe90c81092837a085acc8ea027e8d4179e62aa88b5538536e42d552d4f1c',\n",
       "  '0xab2440beb188b5b86f081b55447689ee99e8bf0081a8ac9372b5bdb544a8067c',\n",
       "  '0xb27ce36bfd18f532ecd230373cbed6d4e0a383079615596ae1178a116a3be5c8',\n",
       "  '0xbad9cacaf4291dc84a327ebc135ae7a2712ed0afe41f86722e231dd9fad6e2ac',\n",
       "  '0xbb807cd70c0b08e05cc22248b88c7a6393acce7dc196f6e4b4a5263763f5d9c0',\n",
       "  '0xc29130ec2c3c0a6a4956b7e33c8e4f034b426b978c1bf4db7c01e01e541cbd08',\n",
       "  '0xc3bfcbdbdb6a259f933e389e4f3d8b703faf75c4697ec2720b89935af15c99e7',\n",
       "  '0xc437f9d1a82b1e584d30e02768b85eeb4b197c93496121fc95fdd7413fe966d6',\n",
       "  '0xc72d9cde907c4373bbac36316cbf5c7d169bcebf08bdb49f7076b273da1a34a7',\n",
       "  '0xca03100cfd41eee4f0959bde4069fe83c05f686c7ce29bec64290f385b30a223',\n",
       "  '0xcb32359293c789feb1f1e37a98dad3453cecd5bd2816d8403c2a42ec81e81bc8',\n",
       "  '0xcdd734ca3ae4eeeabe02e446fb03ee4bb9966bde711408757732aec4b7922418',\n",
       "  '0xd39c668264b9e7b0edb794ad7fc70a178d8e13a985ba7d98df19fd5d722cd230',\n",
       "  '0xdd8699858b77a98750440cd04d439366a445f8532e9d285a02390ec8f240efe3',\n",
       "  '0xdfa15598a87b1e7c51917fdec0ce928c156e3e5934f06ec344a6814dffb0873d',\n",
       "  '0xe8bd3fab1eef44337f9061b3cebdd8fcecb82701839323fcaba4b0ef5cf66fe2',\n",
       "  '0xf619571934f566ec1d97dde90907794b165e9c0ba689acabdcb75def1dea9ff4',\n",
       "  '0xfd876778020266f143391d0f9e4600cfa28f93d00cc88821235631f9e3b0e61d',\n",
       "  '0x27533dde4a9f4bb4c2d51aa3e8d5da984e63a0fc4a151a8e1ab6de139ce87bc3',\n",
       "  '0x3f7c7f867ca9817a5d99d84245d648f4e2d9192f58454ae7b3ff867d24b6b050',\n",
       "  '0x5e31dc9edd58d254ccd11750b852dfa611be5fd5ca1a806cc7a075dc80dbbc84',\n",
       "  '0x68770f0ea8958288963392a765f06898a9e78a6808f3a2316208baa5bb353a3d',\n",
       "  '0x7b89d7b3a8d4b0720399403ecd077c791dbb9e75700d5234f0676f3021eeece5',\n",
       "  '0x85c0d86d76c090ff354617cd2ed1f1512d6e9cafe57d5ba2458d2ca3b57dbebe',\n",
       "  '0x89f1063a1d256a91f0009e4e1107719b93ad5794157a3677e84e1e68def77a32',\n",
       "  '0xa754981973e8aa80b3c08d8e6e18b86e2809c51890aba418babbb7ba73136553',\n",
       "  '0xbf52e65de4c06cf5aba0f7d2f71a04223110eefd88518fe0cbb6f71cafb40de0',\n",
       "  '0xbfbf705c17ca847fb82f4f6e5ffb3a93fbbf8a8cc423442da7d2b6bd62acbcbb',\n",
       "  '0x91a39a4526d2fc3484585adc848c7ee8544c2ec501650ba87fa8f587fec19adc',\n",
       "  '0x3016f23dde3d7c0b08c1784d0019ee308b1fadeca1fdfc862fed93c35eb6db46',\n",
       "  '0x6f11d275b7dc023dc5b119641ab09299f9a3dd72e5ce67975b2b4a5f61c27885',\n",
       "  '0x77e5ad96a1f3eecabdb4336f3c8f3aa3e18a6798c9c6279dc0a5d3883c386005',\n",
       "  '0x16308e1804411f7a7c54f51119ae78f4aa05e902980d7df175de7e612155b785',\n",
       "  '0x68f42641e409c5356d477f2912de0c51c5a46bdddfd400d1ff68afa1efb289ed',\n",
       "  '0x99aa98a0b5c7524dd265f304a76bbd5c035de5a78652e2ec24a9c49b16574654',\n",
       "  '0xba9d854285ebe0efd5ac74623f88738f528f8a97b98b91b277cf35ae8c4152db',\n",
       "  '0xbc000caa882874be0e8f35f3bbf2a6afaec1f7a3ed45b7ce6a7db63925d56a69',\n",
       "  '0xbcda72e59639ebd0bf58fa2378a14e6b53f410defb31a940abef4f16c86500fc',\n",
       "  '0x41746ea2ae75833dc6450e5cf87c16ddcea854fa1444a2e09eb6653277c44be3',\n",
       "  '0x75f2052b66094a4160d9e0dabad87e52d1becfa1ccd56be761f585882e3d3165',\n",
       "  '0x9efdca6ba9c42f42c223e08a2ad3bba122f884410904f8018042e89538a8ab84',\n",
       "  '0x7332ed381f05c71a63482cd432c4fa43bbb3c1966e945d65610fd585d36ba58e',\n",
       "  '0x851f8f1ab9b0b352150fbb8b6d8b49258f6a3fdec9ee2595ced4364b63d8c010',\n",
       "  '0x5c9c40505a35566fcfde2062f21d2f83621fb003ed648a20a71ddda0e0bde935',\n",
       "  '0x8a68486b336905eed3bf0b5322a1e6a31dc938a4044ae18dcbe8d8c564383b51',\n",
       "  '0x018f83331c00a85fceced38810aca76f8893c5ba8cb46dd6d110aaaf77fe81db',\n",
       "  '0x094d2fa0c5d7af9db9f57e071b9198e0993271cbab8be03b5f3d6ec610990662',\n",
       "  '0x0c7b3114ab0811e4473cbef926e3e0e9a630ed9c6dcc40e5815d6568c0ba59d4',\n",
       "  '0x2204256d35f06eea8180de0c94e85ff48ee312bfd5edba649484aca40bb733ea',\n",
       "  '0x3472c0fba71a2010d263d6c967228517783607859c2c31faf820cb48fdbfd997',\n",
       "  '0x4edb14979139265c02096e323333546d8b6de466c21d9797195e67c1d52d7676',\n",
       "  '0x5da79dc403a7b0b033eec090906f6ae47dedbec7fa766d0caeaa43563d8349d5',\n",
       "  '0x7417ef89e132d3d3979fa1794c99174be8ae596b2f000bd4a809c28b0342d8e1',\n",
       "  '0x7c4af7c6a4e1c6d741ea295b3aeb2e9e9310de419af45d42f79b99ed699ad49b',\n",
       "  '0x971490cd05c53a2ca0a47730e7f76a83f63c22415b5f2aa52a294d6b04e04f03',\n",
       "  '0xccb3ea61026617a669c543762323cf9efd329dea4f5c380d46bf38b2cfc804f7',\n",
       "  '0x833a6b51b6059d5aeb20b7ca0c324d047ed239df1cef1a480a1e663bc70aee97',\n",
       "  '0xe7bb0ad8d47f5021861c0f8ba65c927b65c9b8aaf36a9148a2dec8d3de326a4b',\n",
       "  '0x66089509e401167715887a0d1fcd3733614f0744e301cfec203007c64be6eeee',\n",
       "  '0x6fa7ee6b88bc936c54175301b469f46cabb96a1f04308eef9b5ec624ac15f286',\n",
       "  '0xc265fd1cda73e19195c8d7e972ce263b933101cb3de634094fbf6d7269749c7e',\n",
       "  '0x9b2dbff8406adff90250df3ea64758116814230b34d160f8e9d317b85aff3e29',\n",
       "  '0x8241e744d87982bc4b1b8b0d4fe464a18b6aff25171391bff6592a39bbaab06d',\n",
       "  '0xfdd9c7533093f398624a35d1b4fede77885aad51c6f99a17348cfb35c67320a6',\n",
       "  '0x1f22f9e68afdba8cf022d1d35111ec6dd5e11f937bad40bb19c40322b16f5796',\n",
       "  '0x6e74b348056521db32d535ab054406f0e40b24459bed50977e07ee76e02e5208',\n",
       "  '0xe46d1986d382cd9a4f514c53b935a8207a1638b08dc8d2f313d1ac354affed48',\n",
       "  '0x5b6b887b5748f1027851af97bab57e21c60073bdbb3a02274ec2e166e268e41d',\n",
       "  '0xe0ce1d83c8d5e930069435e18f1491379685322d558d80f6d66f95494675dfd7',\n",
       "  '0x9e6bb25fb189836a9dceb2fe0388a6486ec85f6583d6f7089b8981a8e3ab60a9',\n",
       "  '0xc77b6dfe99b6ef701ecc86c7ffc01934a1446fca6994d014470591b6434d947f',\n",
       "  '0xc779ba8784fdc3fc04b834615ee60232455b0c693289b4a591f14fb1d2b00d64',\n",
       "  '0x048c3368511da0455be72f556b3ae8f8ff54c1ad10d5463fa95bfffc2164f787',\n",
       "  '0x8b3cde4a185802b34869719e37527e3ac54d331cf97888fe5b2f80d1506a4bef',\n",
       "  '0xed9995385c9f8778093924e208f54342ad3bdf4e002e59375a6797c6ff608882',\n",
       "  '0x8a3ccaa75748ea4a0d2e0a0278c457dce2f4e74dafbae40ca30a6b2f231c7429',\n",
       "  '0x205ad20fdbc6af2603ddc948f40445510cb002f2ff7ed4e3f764a84ff99116dc',\n",
       "  '0x0d8189fa369b0d754318717b135178fefacc1bf092ad81b4d0ef13f85ed97c28',\n",
       "  '0x99843f4dfab91ab1925d3f9485b4045766ac598ceb2dafd7ddf26a4a6372e861'],\n",
       " 'transactionsRoot': '0x2c1389e47f6aa8244518518dd6f917d71368e2d18c8861b18065ac01917c4366',\n",
       " 'uncles': []})"
      ]
     },
     "execution_count": 8,
     "metadata": {},
     "output_type": "execute_result"
    }
   ],
   "source": [
    "web3.eth.getBlock('0xde8a9b1bb3f2604818d53bf650575c95c06476a9db4645a7bb4343782e0dbe47')"
   ]
  },
  {
   "cell_type": "code",
   "execution_count": 9,
   "metadata": {},
   "outputs": [
    {
     "data": {
      "text/plain": [
       "AttributeDict({'blockHash': '0xe503fd840079e6ae5f986241cc9a41f9a9f0475552d55173dc6887339be3e530',\n",
       " 'blockNumber': 4123166,\n",
       " 'contractAddress': None,\n",
       " 'cumulativeGasUsed': 2853574,\n",
       " 'from': '0xa7f3659c53820346176f7e0e350780df304db179',\n",
       " 'gasUsed': 418436,\n",
       " 'logs': [{'address': '0x6090a6e47849629b7245dfa1ca21d94cd15878ef',\n",
       "   'blockHash': '0xe503fd840079e6ae5f986241cc9a41f9a9f0475552d55173dc6887339be3e530',\n",
       "   'blockNumber': 4123166,\n",
       "   'data': '0x0000000000000000000000000000000000000000000000001e8b85d6aea28000',\n",
       "   'logIndex': 28,\n",
       "   'removed': False,\n",
       "   'topics': ['0xb556ff269c1b6714f432c36431e2041d28436a73b6c3f19c021827bbdc6bfc29',\n",
       "    '0x988504a341f785d7326bacd42f2ada6e97a50fd8220b338e3b98676fefe722c8',\n",
       "    '0x000000000000000000000000a7f3659c53820346176f7e0e350780df304db179'],\n",
       "   'transactionHash': '0x7332ed381f05c71a63482cd432c4fa43bbb3c1966e945d65610fd585d36ba58e',\n",
       "   'transactionIndex': 47}],\n",
       " 'logsBloom': '0x00000000000000000040000000000000000000000000000000000000000000000000000000020000000010000000000000000000000000000000000000000000000000000000000000000000000004000200000000000000000000000000000000000000000000000000002000000000000000400000000000000000000000000000000000000000000000000000000400000800000000000000400000000000000000000000000000001000000000000000000000000000000000000000000040000000000000000000000000000000000000000000000000000000000000000000000000000000000000000000000000000000000000000000000000000000',\n",
       " 'root': '0xc3997d9045c50c06b15c5939319ebda333609209e07f71531f8804ce40f31287',\n",
       " 'to': '0x6090a6e47849629b7245dfa1ca21d94cd15878ef',\n",
       " 'transactionHash': '0x7332ed381f05c71a63482cd432c4fa43bbb3c1966e945d65610fd585d36ba58e',\n",
       " 'transactionIndex': 47})"
      ]
     },
     "execution_count": 9,
     "metadata": {},
     "output_type": "execute_result"
    }
   ],
   "source": [
    "web3.eth.getTransactionReceipt('0x7332ed381f05c71a63482cd432c4fa43bbb3c1966e945d65610fd585d36ba58e')"
   ]
  },
  {
   "cell_type": "code",
   "execution_count": null,
   "metadata": {
    "collapsed": true
   },
   "outputs": [],
   "source": []
  }
 ],
 "metadata": {
  "kernelspec": {
   "display_name": "Python 3",
   "language": "python",
   "name": "python3"
  },
  "language_info": {
   "codemirror_mode": {
    "name": "ipython",
    "version": 3
   },
   "file_extension": ".py",
   "mimetype": "text/x-python",
   "name": "python",
   "nbconvert_exporter": "python",
   "pygments_lexer": "ipython3",
   "version": "3.6.1"
  }
 },
 "nbformat": 4,
 "nbformat_minor": 2
}
