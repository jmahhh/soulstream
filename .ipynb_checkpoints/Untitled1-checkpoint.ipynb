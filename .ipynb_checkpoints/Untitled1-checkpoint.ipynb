{
 "cells": [
  {
   "cell_type": "code",
   "execution_count": 48,
   "metadata": {
    "collapsed": true
   },
   "outputs": [],
   "source": [
    "import requests\n",
    "import json\n",
    "\n",
    "from web3 import Web3, KeepAliveRPCProvider, IPCProvider, HTTPProvider"
   ]
  },
  {
   "cell_type": "code",
   "execution_count": 49,
   "metadata": {},
   "outputs": [],
   "source": [
    "web3 = Web3(HTTPProvider('https://mainnet.infura.io/LLVHsvW1OEQ0tbGLqHja '))"
   ]
  },
  {
   "cell_type": "code",
   "execution_count": 57,
   "metadata": {
    "collapsed": true
   },
   "outputs": [],
   "source": [
    "array = [web3.eth.getTransactionReceipt('0x39c11c8d2d5d89111645a118877c86986d3cd47dd104b40c885407a9aa9875b5')]"
   ]
  },
  {
   "cell_type": "code",
   "execution_count": 51,
   "metadata": {},
   "outputs": [],
   "source": [
    "b = web3.eth.getBlock('latest')"
   ]
  },
  {
   "cell_type": "code",
   "execution_count": 52,
   "metadata": {},
   "outputs": [],
   "source": [
    "for x in range(0, len(b['transactions'])):\n",
    "    y = web3.eth.getTransactionReceipt(b['transactions'][x])\n",
    "    if (y['from'] or y['to'] == '0x8d12a197cb00d4747a1fe03395095ce2a5cc6819') and len(y['logs']) > 0 and y['logs'][0]['topics'][0] == '0xddf252ad1be2c89b69c2b068fc378daa952ba7f163c4a11628f55a4df523b3ef':\n",
    "        array.append(y)"
   ]
  },
  {
   "cell_type": "code",
   "execution_count": 59,
   "metadata": {},
   "outputs": [
    {
     "name": "stdout",
     "output_type": "stream",
     "text": [
      "{'address': '0xd4fa1460f537bb9085d22c7bccb5dd450ef28e3a', 'name': 'Populous Platform', 'decimals': '8', 'symbol': 'PPT', 'totalSupply': '5325224600000000', 'owner': '0x9cc9c3de8e710781983a65b90b7efeaad2d3d7d8', 'transfersCount': 41763, 'last_updated': 1501671610, 'totalIn': 13916572333676200, 'totalOut': 13916572333676200, 'lastUpdated': 1501671609, 'issuancesCount': 0, 'holdersCount': 6246, 'description': 'http://populous.co/', 'price': {'rate': 3.3, 'diff': -6.78, 'ts': 1501671460, 'currency': 'USD'}, 'countOps': 41763}\n"
     ]
    }
   ],
   "source": [
    "n = requests.get('https://api.ethplorer.io/getTokenInfo/'+str(array[0].logs[0]['address']+'?apiKey=freekey'))\n",
    "n = json.loads(n.text)\n",
    "print(n)"
   ]
  },
  {
   "cell_type": "code",
   "execution_count": 20,
   "metadata": {},
   "outputs": [
    {
     "data": {
      "text/plain": [
       "AttributeDict({'blockHash': '0x0b22ad71d5bf49d4f3df2cb48c1e69ed672964f476b151478a8cd80b9e8ab300',\n",
       " 'blockNumber': 4107514,\n",
       " 'contractAddress': None,\n",
       " 'cumulativeGasUsed': 1743093,\n",
       " 'from': '0x168cf068d9257a55ec78756e87d370e97fc90eb4',\n",
       " 'gasUsed': 33338,\n",
       " 'logs': [{'address': '0xd4fa1460f537bb9085d22c7bccb5dd450ef28e3a',\n",
       "   'blockHash': '0x0b22ad71d5bf49d4f3df2cb48c1e69ed672964f476b151478a8cd80b9e8ab300',\n",
       "   'blockNumber': 4107514,\n",
       "   'data': '0x00000000000000000000000000000000000000000000000000000002331caeef',\n",
       "   'logIndex': 14,\n",
       "   'removed': False,\n",
       "   'topics': ['0xddf252ad1be2c89b69c2b068fc378daa952ba7f163c4a11628f55a4df523b3ef',\n",
       "    '0x0000000000000000000000008d12a197cb00d4747a1fe03395095ce2a5cc6819',\n",
       "    '0x000000000000000000000000168cf068d9257a55ec78756e87d370e97fc90eb4'],\n",
       "   'transactionHash': '0x39c11c8d2d5d89111645a118877c86986d3cd47dd104b40c885407a9aa9875b5',\n",
       "   'transactionIndex': 35},\n",
       "  {'address': '0x8d12a197cb00d4747a1fe03395095ce2a5cc6819',\n",
       "   'blockHash': '0x0b22ad71d5bf49d4f3df2cb48c1e69ed672964f476b151478a8cd80b9e8ab300',\n",
       "   'blockNumber': 4107514,\n",
       "   'data': '0x000000000000000000000000d4fa1460f537bb9085d22c7bccb5dd450ef28e3a000000000000000000000000168cf068d9257a55ec78756e87d370e97fc90eb400000000000000000000000000000000000000000000000000000002331caeef0000000000000000000000000000000000000000000000000000000000000000',\n",
       "   'logIndex': 15,\n",
       "   'removed': False,\n",
       "   'topics': ['0xf341246adaac6f497bc2a656f546ab9e182111d630394f0c57c710a59a2cb567'],\n",
       "   'transactionHash': '0x39c11c8d2d5d89111645a118877c86986d3cd47dd104b40c885407a9aa9875b5',\n",
       "   'transactionIndex': 35}],\n",
       " 'logsBloom': '0x00000020004000000000000000000000000000000000100000000400002001080000000000000000000000000000000000000000000000008000000000000000000000000000000000000008000000000000000000000000000000000000000000000020000000800800000000000000000000000000000000000010000000000000000000000000000000000000200000000000000000000000000000000000000000000000000000000000000000000000040000008000000000000000000000000002000000000000000000000000000000040000000000000000000000000000000000000000000000000000000000000000000000000000000000000000',\n",
       " 'root': '0x89244bdd1bd738d9f9671ce2335081153267b287664635ae776871e638990bbd',\n",
       " 'to': '0x8d12a197cb00d4747a1fe03395095ce2a5cc6819',\n",
       " 'transactionHash': '0x39c11c8d2d5d89111645a118877c86986d3cd47dd104b40c885407a9aa9875b5',\n",
       " 'transactionIndex': 35})"
      ]
     },
     "execution_count": 20,
     "metadata": {},
     "output_type": "execute_result"
    }
   ],
   "source": [
    "web3.eth.getTransactionReceipt('0x39c11c8d2d5d89111645a118877c86986d3cd47dd104b40c885407a9aa9875b5')"
   ]
  },
  {
   "cell_type": "code",
   "execution_count": null,
   "metadata": {
    "collapsed": true
   },
   "outputs": [],
   "source": []
  }
 ],
 "metadata": {
  "kernelspec": {
   "display_name": "Python 3",
   "language": "python",
   "name": "python3"
  },
  "language_info": {
   "codemirror_mode": {
    "name": "ipython",
    "version": 3
   },
   "file_extension": ".py",
   "mimetype": "text/x-python",
   "name": "python",
   "nbconvert_exporter": "python",
   "pygments_lexer": "ipython3",
   "version": "3.6.1"
  }
 },
 "nbformat": 4,
 "nbformat_minor": 2
}
